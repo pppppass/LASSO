{
 "cells": [
  {
   "cell_type": "code",
   "execution_count": null,
   "metadata": {
    "collapsed": true
   },
   "outputs": [],
   "source": [
    "%matplotlib inline"
   ]
  },
  {
   "cell_type": "code",
   "execution_count": null,
   "metadata": {
    "collapsed": true
   },
   "outputs": [],
   "source": [
    "import time\n",
    "import numpy\n",
    "import scipy.stats\n",
    "import scipy.sparse"
   ]
  },
  {
   "cell_type": "code",
   "execution_count": null,
   "metadata": {
    "collapsed": true
   },
   "outputs": [],
   "source": [
    "from utils import errfun, l1_gt_wrapper_gen\n",
    "from utils import Stat"
   ]
  },
  {
   "cell_type": "code",
   "execution_count": null,
   "metadata": {
    "collapsed": true
   },
   "outputs": [],
   "source": [
    "from model_cvxpy import l1_cvxpy_mosek, l1_cvxpy_gurobi\n",
    "from solver_mosek import l1_mosek_qp\n",
    "from solver_gurobi import l1_gurobi_nonexpand\n",
    "from method_sub_grad import l1_sub_grad, l1_stochastic_sub_grad\n",
    "from method_proj_grad import l1_proj_grad\n",
    "from method_smooth_grad import l1_smooth_grad_sqrt, l1_smooth_grad_log_exp, l1_fast_smooth_grad_sqrt, l1_fast_smooth_grad_log_exp\n",
    "from method_prox_grad import l1_prox_grad, l1_fast_prox_grad\n",
    "from method_explicit_MM_dual import l1_ALM_dual, l1_ADMM_dual\n",
    "from method_ADMM_primal_direct import l1_ADMM_primal_direct\n",
    "from method_ADMM_primal_linear import l1_ADMM_primal_linear\n",
    "from method_momentum import l1_momentum_sub_grad\n",
    "from method_AdaGrad import l1_sub_AdaGrad\n",
    "from method_RMSProp import l1_sub_RMSProp\n",
    "from method_Adam import l1_sub_Adam"
   ]
  },
  {
   "cell_type": "code",
   "execution_count": null,
   "metadata": {
    "collapsed": true
   },
   "outputs": [],
   "source": [
    "n, m = 1024, 512\n",
    "mu = 1.e-3"
   ]
  },
  {
   "cell_type": "code",
   "execution_count": null,
   "metadata": {
    "collapsed": true
   },
   "outputs": [],
   "source": [
    "# Set seeds for result consistency\n",
    "# One may skip this cell to test random A\n",
    "numpy.random.seed(1)"
   ]
  },
  {
   "cell_type": "code",
   "execution_count": null,
   "metadata": {
    "collapsed": true
   },
   "outputs": [],
   "source": [
    "A = numpy.random.randn(m, n)\n",
    "norm = scipy.stats.norm()\n",
    "u = scipy.sparse.random(n, 1, density=0.1, data_rvs=norm.rvs).A\n",
    "b = A.dot(u)\n",
    "\n",
    "x0 = numpy.random.rand(n, 1)"
   ]
  },
  {
   "cell_type": "code",
   "execution_count": null,
   "metadata": {
    "collapsed": true
   },
   "outputs": [],
   "source": [
    "xx, _ = l1_cvxpy_mosek(x0, A, b, mu)"
   ]
  },
  {
   "cell_type": "code",
   "execution_count": null,
   "metadata": {
    "collapsed": true
   },
   "outputs": [],
   "source": [
    "def test(func, **opts):\n",
    "    start = time.time()\n",
    "    solution, out = func(x0, A, b, mu, **opts)\n",
    "    end = time.time()\n",
    "    elapsed = end - start\n",
    "\n",
    "    error = A.dot(solution) - b\n",
    "    approximation_loss = 1. / 2. * numpy.sum(error**2)\n",
    "    regularization = numpy.sum(numpy.abs(solution))\n",
    "    check_loss = approximation_loss + mu * regularization\n",
    "    \n",
    "    out[\"name\"] = func.__name__\n",
    "    out[\"solution\"] = solution\n",
    "    out[\"time\"] = elapsed\n",
    "    out[\"check_loss\"] = check_loss\n",
    "    out[\"approximation_loss\"] = approximation_loss\n",
    "    out[\"regularization\"] = regularization\n",
    "    out[\"error_xx\"] = errfun(xx, solution)\n",
    "    out[\"error_gt\"] = errfun(u, solution)\n",
    "\n",
    "    return out"
   ]
  },
  {
   "cell_type": "code",
   "execution_count": null,
   "metadata": {
    "collapsed": true
   },
   "outputs": [],
   "source": [
    "stat = Stat()"
   ]
  },
  {
   "cell_type": "code",
   "execution_count": null,
   "metadata": {},
   "outputs": [],
   "source": [
    "stat(test(l1_gt_wrapper_gen(u)))\n",
    "stat.notebook_last()"
   ]
  },
  {
   "cell_type": "code",
   "execution_count": null,
   "metadata": {},
   "outputs": [],
   "source": [
    "stat(test(l1_cvxpy_mosek))\n",
    "stat.notebook_last()"
   ]
  },
  {
   "cell_type": "code",
   "execution_count": null,
   "metadata": {},
   "outputs": [],
   "source": [
    "stat(test(l1_cvxpy_gurobi))\n",
    "stat.notebook_last()"
   ]
  },
  {
   "cell_type": "code",
   "execution_count": null,
   "metadata": {},
   "outputs": [],
   "source": [
    "stat(test(l1_mosek_qp))\n",
    "stat.notebook_last()"
   ]
  },
  {
   "cell_type": "code",
   "execution_count": null,
   "metadata": {},
   "outputs": [],
   "source": [
    "stat(test(l1_gurobi_nonexpand))\n",
    "stat.notebook_last()"
   ]
  },
  {
   "cell_type": "code",
   "execution_count": null,
   "metadata": {},
   "outputs": [],
   "source": [
    "stat(test(\n",
    "    l1_sub_grad,\n",
    "    iter_list=[100, 225, 400, 425, 425, 450],\n",
    "    lr_list=[3.e-4, 5.e-4, 5.e-4, 5.e-4, 5.e-4, 5.e-4],\n",
    "    mu_list=[100., 10., 1., 0.1, 0.01, 0.001],\n",
    "    res_list=[0.]*6,\n",
    "    figure=True,\n",
    "    xx=u,\n",
    "))\n",
    "stat.loss_curve_last(log=True)\n",
    "stat.loss_curve_last(label={\"error\": \"Error to u\", \"grad_norm2\": \"Squared grad norm\"}, log=True)\n",
    "stat.pop()\n",
    "stat(test(\n",
    "    l1_sub_grad,\n",
    "    iter_list=[100, 225, 400, 425, 425, 450],\n",
    "    lr_list=[3.e-4, 5.e-4, 5.e-4, 5.e-4, 5.e-4, 5.e-4],\n",
    "    mu_list=[100., 10., 1., 0.1, 0.01, 0.001],\n",
    "))\n",
    "stat.notebook_last()"
   ]
  },
  {
   "cell_type": "code",
   "execution_count": null,
   "metadata": {
    "collapsed": true
   },
   "outputs": [],
   "source": [
    "# Set seed for result consistency\n",
    "# One may skip this cell to use random SGD\n",
    "numpy.random.seed(1)"
   ]
  },
  {
   "cell_type": "code",
   "execution_count": null,
   "metadata": {},
   "outputs": [],
   "source": [
    "stat(test(\n",
    "    l1_stochastic_sub_grad,\n",
    "    iter_list=[100, 225, 400, 425, 425, 450],\n",
    "    lr_list=[3.e-4, 5.e-4, 5.e-4, 5.e-4, 5.e-4, 5.e-4],\n",
    "    mu_list=[100., 10., 1., 0.1, 0.01, 0.001],\n",
    "    density_list=[0.5, 0.6, 0.7, 0.8, 0.9, 1.0],\n",
    "    res_list=[0.]*6,\n",
    "    figure=True,\n",
    "    xx=u,\n",
    "))\n",
    "stat.loss_curve_last(log=True)\n",
    "stat.loss_curve_last(label={\"error\": \"Error to u\", \"grad_norm2\": \"Squared grad norm\"}, log=True)\n",
    "stat.pop()\n",
    "stat(test(\n",
    "    l1_stochastic_sub_grad,\n",
    "    iter_list=[100, 225, 400, 425, 425, 450],\n",
    "    lr_list=[3.e-4, 5.e-4, 5.e-4, 5.e-4, 5.e-4, 5.e-4],\n",
    "    mu_list=[100., 10., 1., 0.1, 0.01, 0.001],\n",
    "    density_list=[0.5, 0.6, 0.7, 0.8, 0.9, 1.0],\n",
    "))\n",
    "stat.notebook_last()"
   ]
  },
  {
   "cell_type": "code",
   "execution_count": null,
   "metadata": {},
   "outputs": [],
   "source": [
    "stat(test(\n",
    "    l1_proj_grad,\n",
    "    iter_list=[75, 225, 300, 300, 300, 350],\n",
    "    lr_list=[1.5e-3, 2.e-3, 2.e-3, 2.e-3, 2.e-3, 2.e-3],\n",
    "    mu_list=[100., 10., 1., 0.1, 0.01, 0.001],\n",
    "    res_list=[0.]*6,\n",
    "    figure=True,\n",
    "    xx=u,\n",
    "))\n",
    "stat.loss_curve_last(log=True)\n",
    "stat.loss_curve_last(label={\"error\": \"Error to u\", \"grad_norm2\": \"Squared grad norm\"}, log=True)\n",
    "stat.pop()\n",
    "stat(test(\n",
    "    l1_proj_grad,\n",
    "    iter_list=[75, 225, 300, 300, 300, 350],\n",
    "    lr_list=[1.5e-3, 2.e-3, 2.e-3, 2.e-3, 2.e-3, 2.e-3],\n",
    "    mu_list=[100., 10., 1., 0.1, 0.01, 0.001],\n",
    "))\n",
    "stat.notebook_last()"
   ]
  },
  {
   "cell_type": "code",
   "execution_count": null,
   "metadata": {},
   "outputs": [],
   "source": [
    "stat(test(\n",
    "    l1_smooth_grad_sqrt,\n",
    "    iter_list=[100, 225, 400, 425, 425, 450],\n",
    "    lr_list=[3.e-4, 5.e-4, 5.e-4, 5.e-4, 5.e-4, 5.e-4],\n",
    "    mu_list=[100., 10., 1., 0.1, 0.01, 0.001],\n",
    "    eps_list=[1.e-2, 1.e-3, 1.e-4, 1.e-6, 1.e-8, 1.e-10],\n",
    "    res_list=[0.]*6,\n",
    "    figure=True,\n",
    "    xx=u,\n",
    "))\n",
    "stat.loss_curve_last(log=True)\n",
    "stat.loss_curve_last(label={\"error\": \"Error to u\", \"grad_norm2\": \"Squared grad norm\"}, log=True)\n",
    "stat.pop()\n",
    "stat(test(\n",
    "    l1_smooth_grad_sqrt,\n",
    "    iter_list=[100, 225, 400, 425, 425, 450],\n",
    "    lr_list=[3.e-4, 5.e-4, 5.e-4, 5.e-4, 5.e-4, 5.e-4],\n",
    "    mu_list=[100., 10., 1., 0.1, 0.01, 0.001],\n",
    "    eps_list=[1.e-2, 1.e-3, 1.e-4, 1.e-6, 1.e-8, 1.e-10],\n",
    "))\n",
    "stat.notebook_last()"
   ]
  },
  {
   "cell_type": "code",
   "execution_count": null,
   "metadata": {},
   "outputs": [],
   "source": [
    "stat(test(\n",
    "    l1_smooth_grad_log_exp,\n",
    "    iter_list=[100, 225, 400, 425, 425, 450],\n",
    "    lr_list=[3.e-4, 5.e-4, 5.e-4, 5.e-4, 5.e-4, 5.e-4],\n",
    "    mu_list=[100., 10., 1., 0.1, 0.01, 0.001],\n",
    "    eps_list=[1.e-2, 1.e-3, 1.e-4, 1.e-6, 1.e-8, 1.e-10],\n",
    "    res_list=[0.]*6,\n",
    "    figure=True,\n",
    "    xx=u,\n",
    "))\n",
    "stat.loss_curve_last(log=True)\n",
    "stat.loss_curve_last(label={\"error\": \"Error to u\", \"grad_norm2\": \"Squared grad norm\"}, log=True)\n",
    "stat.pop()\n",
    "stat(test(\n",
    "    l1_smooth_grad_log_exp,\n",
    "    iter_list=[100, 225, 400, 425, 425, 450],\n",
    "    lr_list=[3.e-4, 5.e-4, 5.e-4, 5.e-4, 5.e-4, 5.e-4],\n",
    "    mu_list=[100., 10., 1., 0.1, 0.01, 0.001],\n",
    "    eps_list=[1.e-2, 1.e-3, 1.e-4, 1.e-6, 1.e-8, 1.e-10],\n",
    "))\n",
    "stat.notebook_last()"
   ]
  },
  {
   "cell_type": "code",
   "execution_count": null,
   "metadata": {},
   "outputs": [],
   "source": [
    "stat(test(\n",
    "    l1_fast_smooth_grad_sqrt,\n",
    "    iter_list=[125, 125, 125, 225],\n",
    "    lr_list=[3.e-4, 3.e-4, 3.e-4, 3.e-4],\n",
    "    mu_list=[10., 0.5, 0.02, 0.001],\n",
    "    eps_list=[1.e-3, 1.e-5, 1.e-8, 1.e-10],\n",
    "    res_list=[0.]*4,\n",
    "    figure=True,\n",
    "    xx=u,\n",
    "))\n",
    "stat.loss_curve_last(log=True)\n",
    "stat.loss_curve_last(label={\"error\": \"Error to u\", \"grad_norm2\": \"Squared grad norm\"}, log=True)\n",
    "stat.pop()\n",
    "stat(test(\n",
    "    l1_fast_smooth_grad_sqrt,\n",
    "    iter_list=[125, 125, 125, 225],\n",
    "    lr_list=[3.e-4, 3.e-4, 3.e-4, 3.e-4],\n",
    "    mu_list=[10., 0.5, 0.02, 0.001],\n",
    "    eps_list=[1.e-3, 1.e-5, 1.e-8, 1.e-10],\n",
    "))\n",
    "stat.notebook_last()"
   ]
  },
  {
   "cell_type": "code",
   "execution_count": null,
   "metadata": {},
   "outputs": [],
   "source": [
    "stat(test(\n",
    "    l1_fast_smooth_grad_log_exp,\n",
    "    iter_list=[125, 125, 125, 225],\n",
    "    lr_list=[3.e-4, 3.e-4, 3.e-4, 3.e-4],\n",
    "    mu_list=[10., 0.5, 0.02, 0.001],\n",
    "    eps_list=[1.e-3, 1.e-5, 1.e-8, 1.e-10],\n",
    "    res_list=[0.]*4,\n",
    "    figure=True,\n",
    "    xx=u,\n",
    "))\n",
    "stat.loss_curve_last(log=True)\n",
    "stat.loss_curve_last(label={\"error\": \"Error to u\", \"grad_norm2\": \"Squared grad norm\"}, log=True)\n",
    "stat.pop()\n",
    "stat(test(\n",
    "    l1_fast_smooth_grad_log_exp,\n",
    "    iter_list=[125, 125, 125, 225],\n",
    "    lr_list=[3.e-4, 3.e-4, 3.e-4, 3.e-4],\n",
    "    mu_list=[10., 0.5, 0.02, 0.001],\n",
    "    eps_list=[1.e-3, 1.e-5, 1.e-8, 1.e-10],\n",
    "))\n",
    "stat.notebook_last()"
   ]
  },
  {
   "cell_type": "code",
   "execution_count": null,
   "metadata": {},
   "outputs": [],
   "source": [
    "stat(test(\n",
    "    l1_prox_grad,\n",
    "    iter_list=[100, 225, 300, 300, 300, 325],\n",
    "    lr_list=[3.e-4, 5.e-4, 5.e-4, 5.e-4, 5.e-4, 5.e-4],\n",
    "    mu_list=[100., 10., 1., 0.1, 0.01, 0.001],\n",
    "    res_list=[0.]*6,\n",
    "    figure=True,\n",
    "    xx=u,\n",
    "))\n",
    "stat.loss_curve_last(log=True)\n",
    "stat.loss_curve_last(label={\"error\": \"Error to u\", \"grad_norm2\": \"Squared grad norm\"}, log=True)\n",
    "stat.pop()\n",
    "stat(test(\n",
    "    l1_prox_grad,\n",
    "    iter_list=[100, 225, 300, 300, 300, 325],\n",
    "    lr_list=[3.e-4, 5.e-4, 5.e-4, 5.e-4, 5.e-4, 5.e-4],\n",
    "    mu_list=[100., 10., 1., 0.1, 0.01, 0.001],\n",
    "))\n",
    "stat.notebook_last()"
   ]
  },
  {
   "cell_type": "code",
   "execution_count": null,
   "metadata": {},
   "outputs": [],
   "source": [
    "stat(test(\n",
    "    l1_fast_prox_grad,\n",
    "    iter_list=[32000],\n",
    "    lr_list=[3.e-4],\n",
    "    mu_list=[0.001],\n",
    "    res_list=[0.]*1,\n",
    "    figure=True,\n",
    "    xx=u,\n",
    "))\n",
    "stat.loss_curve_last(log=True)\n",
    "stat.loss_curve_last(label={\"error\": \"Error to u\", \"grad_norm2\": \"Squared grad norm\"}, log=True)\n",
    "stat.pop()\n",
    "stat(test(\n",
    "    l1_fast_prox_grad,\n",
    "    iter_list=[32000],\n",
    "    lr_list=[3.e-4],\n",
    "    mu_list=[0.001],\n",
    "))\n",
    "stat.notebook_last()"
   ]
  },
  {
   "cell_type": "code",
   "execution_count": null,
   "metadata": {},
   "outputs": [],
   "source": [
    "stat(test(\n",
    "    l1_fast_prox_grad,\n",
    "    iter_list=[100, 100, 100, 150],\n",
    "    lr_list=[3.e-4, 3.e-4, 3.e-4, 3.e-4],\n",
    "    mu_list=[10., 0.5, 0.02, 0.001],\n",
    "    res_list=[0.]*4,\n",
    "    figure=True,\n",
    "    xx=u,\n",
    "))\n",
    "stat.loss_curve_last(log=True)\n",
    "stat.loss_curve_last(label={\"error\": \"Error to u\", \"grad_norm2\": \"Squared grad norm\"}, log=True)\n",
    "stat.pop()\n",
    "stat(test(\n",
    "    l1_fast_prox_grad,\n",
    "    iter_list=[100, 100, 100, 150],\n",
    "    lr_list=[3.e-4, 3.e-4, 3.e-4, 3.e-4],\n",
    "    mu_list=[10., 0.5, 0.02, 0.001],\n",
    "))\n",
    "stat.notebook_last()"
   ]
  },
  {
   "cell_type": "code",
   "execution_count": null,
   "metadata": {},
   "outputs": [],
   "source": [
    "stat(test(\n",
    "    l1_ALM_dual,\n",
    "    iter_list=[40, 30, 30, 40],\n",
    "    lr_list=[1.e-2, 1.e-2, 1.e-2, 1.e-2],\n",
    "    mu_list=[10., 0.5, 0.02, 0.001],\n",
    "    figure=True,\n",
    "    xx=u,\n",
    "))\n",
    "stat.loss_curve_last(log=True)\n",
    "stat.loss_curve_last(label={\"error\": \"Error to u\"}, log=True)\n",
    "stat.pop()\n",
    "stat(test(\n",
    "    l1_ALM_dual,\n",
    "    iter_list=[40, 30, 30, 40],\n",
    "    lr_list=[1.e-2, 1.e-2, 1.e-2, 1.e-2],\n",
    "    mu_list=[10., 0.5, 0.02, 0.001],\n",
    "))\n",
    "stat.notebook_last()"
   ]
  },
  {
   "cell_type": "code",
   "execution_count": null,
   "metadata": {},
   "outputs": [],
   "source": [
    "stat(test(\n",
    "    l1_ADMM_dual,\n",
    "    iter_list=[30, 25, 25, 35],\n",
    "    lr_list=[1.e-2, 1.e-2, 1.e-2, 1.e-2],\n",
    "    mu_list=[10., 0.5, 0.02, 0.001],\n",
    "    figure=True,\n",
    "    xx=u,\n",
    "))\n",
    "stat.loss_curve_last(log=True)\n",
    "stat.loss_curve_last(label={\"error\": \"Error to u\"}, log=True)\n",
    "stat.pop()\n",
    "stat(test(\n",
    "    l1_ADMM_dual,\n",
    "    iter_list=[30, 25, 25, 35],\n",
    "    lr_list=[1.e-2, 1.e-2, 1.e-2, 1.e-2],\n",
    "    mu_list=[10., 0.5, 0.02, 0.001],\n",
    "))\n",
    "stat.notebook_last()"
   ]
  },
  {
   "cell_type": "code",
   "execution_count": null,
   "metadata": {},
   "outputs": [],
   "source": [
    "stat(test(\n",
    "    l1_ADMM_primal_linear,\n",
    "    iter_list=[50, 150, 200, 300],\n",
    "    lr_list=[1.5e-4, 1.5e-4, 1.5e-4, 2.e-4],\n",
    "    mu_list=[1., 0.1, 0.01, 0.001],\n",
    "    tau_list=[2., 2., 2., 2.],\n",
    "    figure=True,\n",
    "    xx=u,\n",
    "))\n",
    "stat.loss_curve_last(log=True)\n",
    "stat.loss_curve_last(label={\"error\": \"Error to u\"}, log=True)\n",
    "stat.pop()\n",
    "stat(test(\n",
    "    l1_ADMM_primal_linear,\n",
    "    iter_list=[50, 150, 200, 300],\n",
    "    lr_list=[1.5e-4, 1.5e-4, 1.5e-4, 2.e-4],\n",
    "    mu_list=[1., 0.1, 0.01, 0.001],\n",
    "    tau_list=[2., 2., 2., 2.],\n",
    "))\n",
    "stat.notebook_last()"
   ]
  },
  {
   "cell_type": "code",
   "execution_count": null,
   "metadata": {
    "scrolled": false
   },
   "outputs": [],
   "source": [
    "stat(test(\n",
    "    l1_ADMM_primal_direct,\n",
    "    iter_list=[50, 150, 200, 300],\n",
    "    lr_list=[1.5e-3, 1.5e-3, 1.5e-3, 1.5e-3],\n",
    "    mu_list=[1., 0.1, 0.01, 0.001],\n",
    "    figure=True,\n",
    "    xx=u,\n",
    "))\n",
    "stat.loss_curve_last(log=True)\n",
    "stat.loss_curve_last(label={\"error\": \"Error to u\"}, log=True)\n",
    "stat.pop()\n",
    "stat(test(\n",
    "    l1_ADMM_primal_direct,\n",
    "    iter_list=[50, 150, 200, 300],\n",
    "    lr_list=[1.5e-3, 1.5e-3, 1.5e-3, 1.5e-3],\n",
    "    mu_list=[1., 0.1, 0.01, 0.001],\n",
    "))\n",
    "stat.notebook_last()"
   ]
  },
  {
   "cell_type": "code",
   "execution_count": null,
   "metadata": {},
   "outputs": [],
   "source": [
    "stat(test(\n",
    "    l1_momentum_sub_grad,\n",
    "    iter_list=[50, 75, 100, 100, 100, 125],\n",
    "    lr_list=[3.e-4, 5.e-4, 5.e-4, 5.e-4, 5.e-4, 5.e-4],\n",
    "    mu_list=[100., 10., 1., 0.1, 0.01, 0.001],\n",
    "    alpha_list=[0.8]*6,\n",
    "    res_list=[0.]*6,\n",
    "    figure=True,\n",
    "    xx=u,\n",
    "))\n",
    "stat.loss_curve_last(log=True)\n",
    "stat.loss_curve_last(label={\"error\": \"Error to u\", \"grad_norm2\": \"Squared grad norm\"}, log=True)\n",
    "stat.pop()\n",
    "stat(test(\n",
    "    l1_momentum_sub_grad,\n",
    "    iter_list=[50, 75, 100, 100, 100, 125],\n",
    "    lr_list=[3.e-4, 5.e-4, 5.e-4, 5.e-4, 5.e-4, 5.e-4],\n",
    "    mu_list=[100., 10., 1., 0.1, 0.01, 0.001],\n",
    "    alpha_list=[0.8]*6,\n",
    "))\n",
    "stat.notebook_last()"
   ]
  },
  {
   "cell_type": "code",
   "execution_count": null,
   "metadata": {},
   "outputs": [],
   "source": [
    "stat(test(\n",
    "    l1_sub_AdaGrad,\n",
    "    iter_list=[150, 250, 325, 325, 325, 325],\n",
    "    lr_list=[5.e-1, 5.5e-1, 6.e-1, 6.5e-1, 7.e-1, 7.5e-1],\n",
    "    mu_list=[100., 10., 1., 0.1, 0.01, 0.001],\n",
    "    delta=1.e-7,\n",
    "    res_list=[0.]*6,\n",
    "    figure=True,\n",
    "    xx=u,\n",
    "))\n",
    "stat.loss_curve_last(log=True)\n",
    "stat.loss_curve_last(label={\"error\": \"Error to u\", \"grad_norm2\": \"Squared grad norm\"}, log=True)\n",
    "stat.pop()\n",
    "stat(test(\n",
    "    l1_sub_AdaGrad,\n",
    "    iter_list=[150, 250, 325, 325, 325, 325],\n",
    "    lr_list=[5.e-1, 5.5e-1, 6.e-1, 6.5e-1, 7.e-1, 7.5e-1],\n",
    "    mu_list=[100., 10., 1., 0.1, 0.01, 0.001],\n",
    "    delta=1.e-7,\n",
    "))\n",
    "stat.notebook_last()"
   ]
  },
  {
   "cell_type": "code",
   "execution_count": null,
   "metadata": {},
   "outputs": [],
   "source": [
    "stat(test(\n",
    "    l1_sub_RMSProp,\n",
    "    iter_list=[125, 200, 300, 300, 300, 325],\n",
    "    lr_list=[4.e-2, 1.e-2, 1.2e-3, 1.e-4, 1.e-5, 1.e-6],\n",
    "    mu_list=[100., 10., 1., 0.1, 0.01, 0.001],\n",
    "    rho_list=[0.9]*6,\n",
    "    delta=1.e-7,\n",
    "    res_list=[0.]*6,\n",
    "    figure=True,\n",
    "    xx=u,\n",
    "))\n",
    "stat.loss_curve_last(log=True)\n",
    "stat.loss_curve_last(label={\"error\": \"Error to u\", \"grad_norm2\": \"Squared grad norm\"}, log=True)\n",
    "stat.pop()\n",
    "stat(test(\n",
    "    l1_sub_RMSProp,\n",
    "    iter_list=[125, 200, 300, 300, 300, 325],\n",
    "    lr_list=[4.e-2, 1.e-2, 1.2e-3, 1.e-4, 1.e-5, 1.e-6],\n",
    "    mu_list=[100., 10., 1., 0.1, 0.01, 0.001],\n",
    "    rho_list=[0.9]*6,\n",
    "    delta=1.e-7,\n",
    "))\n",
    "stat.notebook_last()"
   ]
  },
  {
   "cell_type": "code",
   "execution_count": null,
   "metadata": {},
   "outputs": [],
   "source": [
    "stat(test(\n",
    "    l1_sub_Adam,\n",
    "    iter_list=[100, 125, 150, 150, 150, 150],\n",
    "    lr_list=[1.e-1, 2.e-1, 2.e-1, 2.e-1, 2.e-1, 2.e-1],\n",
    "    mu_list=[100., 10., 1., 0.1, 0.01, 0.001],\n",
    "    rho1_list=[0.9]*6,\n",
    "    rho2_list=[0.999]*6,\n",
    "    delta=1.e-7,\n",
    "    res_list=[0.]*6,\n",
    "    figure=True,\n",
    "    xx=u,\n",
    "))\n",
    "stat.loss_curve_last(log=True)\n",
    "stat.loss_curve_last(label={\"error\": \"Error to u\", \"grad_norm2\": \"Squared grad norm\"}, log=True)\n",
    "stat.pop()\n",
    "stat(test(\n",
    "    l1_sub_Adam,\n",
    "    iter_list=[100, 125, 150, 150, 150, 150],\n",
    "    lr_list=[1.e-1, 2.e-1, 2.e-1, 2.e-1, 2.e-1, 2.e-1],\n",
    "    mu_list=[100., 10., 1., 0.1, 0.01, 0.001],\n",
    "    rho1_list=[0.9]*6,\n",
    "    rho2_list=[0.999]*6,\n",
    "    delta=1.e-7,\n",
    "))\n",
    "stat.notebook_last()"
   ]
  },
  {
   "cell_type": "code",
   "execution_count": null,
   "metadata": {
    "scrolled": false
   },
   "outputs": [],
   "source": [
    "stat.LaTeX_all()"
   ]
  },
  {
   "cell_type": "code",
   "execution_count": null,
   "metadata": {
    "collapsed": true
   },
   "outputs": [],
   "source": []
  }
 ],
 "metadata": {
  "kernelspec": {
   "display_name": "Python 3",
   "language": "python",
   "name": "python3"
  },
  "language_info": {
   "codemirror_mode": {
    "name": "ipython",
    "version": 3
   },
   "file_extension": ".py",
   "mimetype": "text/x-python",
   "name": "python",
   "nbconvert_exporter": "python",
   "pygments_lexer": "ipython3",
   "version": "3.6.2"
  }
 },
 "nbformat": 4,
 "nbformat_minor": 2
}
