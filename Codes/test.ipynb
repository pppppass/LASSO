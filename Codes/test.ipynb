{
 "cells": [
  {
   "cell_type": "code",
   "execution_count": null,
   "metadata": {},
   "outputs": [],
   "source": [
    "%matplotlib inline"
   ]
  },
  {
   "cell_type": "code",
   "execution_count": null,
   "metadata": {
    "collapsed": true
   },
   "outputs": [],
   "source": [
    "import math\n",
    "import numpy\n",
    "import utils"
   ]
  },
  {
   "cell_type": "code",
   "execution_count": null,
   "metadata": {},
   "outputs": [],
   "source": [
    "from model_cvx import l1_cvx_mosek, l1_cvx_gurobi\n",
    "from solver_mosek import l1_mosek_qp, l1_mosek_fusion_socp\n",
    "from solver_gurobi import l1_gurobi_expand, l1_gurobi_nonexpand\n",
    "from method_proj_grad import l1_proj_grad\n",
    "from method_sub_grad import l1_sub_grad\n",
    "from method_smooth_grad import l1_smooth_grad_sqrt, l1_smooth_grad_log_exp\n",
    "from method_fast_smooth_grad import l1_fast_smooth_grad_sqrt\n",
    "from method_prox_grad import l1_prox_grad\n",
    "from method_fast_prox_grad import l1_fast_prox_grad"
   ]
  },
  {
   "cell_type": "code",
   "execution_count": null,
   "metadata": {},
   "outputs": [],
   "source": [
    "tester = utils.Tester(*utils.generate_data())\n",
    "tester.set_xx(l1_cvx_mosek)"
   ]
  },
  {
   "cell_type": "code",
   "execution_count": null,
   "metadata": {},
   "outputs": [],
   "source": [
    "utils.draw_sparse_figure(tester.u)"
   ]
  },
  {
   "cell_type": "code",
   "execution_count": null,
   "metadata": {},
   "outputs": [],
   "source": [
    "out = tester.test(l1_cvx_mosek)\n",
    "utils.draw_sparse_figure(out[\"value\"])"
   ]
  },
  {
   "cell_type": "code",
   "execution_count": null,
   "metadata": {
    "scrolled": true
   },
   "outputs": [],
   "source": [
    "out = tester.test(l1_cvx_gurobi)"
   ]
  },
  {
   "cell_type": "code",
   "execution_count": null,
   "metadata": {
    "scrolled": false
   },
   "outputs": [],
   "source": [
    "out = tester.test(l1_mosek_qp)"
   ]
  },
  {
   "cell_type": "code",
   "execution_count": null,
   "metadata": {
    "scrolled": true
   },
   "outputs": [],
   "source": [
    "out = tester.test(l1_mosek_fusion_socp)"
   ]
  },
  {
   "cell_type": "code",
   "execution_count": null,
   "metadata": {},
   "outputs": [],
   "source": [
    "out = tester.test(l1_gurobi_expand)"
   ]
  },
  {
   "cell_type": "code",
   "execution_count": null,
   "metadata": {},
   "outputs": [],
   "source": [
    "out = tester.test(l1_gurobi_nonexpand)"
   ]
  },
  {
   "cell_type": "code",
   "execution_count": null,
   "metadata": {},
   "outputs": [],
   "source": [
    "options = {\n",
    "    \"iters\": 2000,\n",
    "    \"lr_init\": 0.001\n",
    "}\n",
    "out = tester.test(l1_proj_grad, options)\n",
    "utils.draw_sparse_figure(out[\"value\"])\n",
    "utils.draw_loss_curve([out[\"real_loss\"], out[\"formal_loss\"]], label=[\"real loss\", \"formal loss\"], log=True)"
   ]
  },
  {
   "cell_type": "code",
   "execution_count": null,
   "metadata": {},
   "outputs": [],
   "source": [
    "options = {\n",
    "    \"iters\": 2000,\n",
    "    \"lr_func\": utils.lr_func_frac_dimish(0.02, 10),\n",
    "}\n",
    "out = tester.test(l1_proj_grad, options)\n",
    "utils.draw_loss_curve([out[\"real_loss\"], out[\"formal_loss\"]], label=[\"real loss\", \"formal loss\"], log=True)"
   ]
  },
  {
   "cell_type": "code",
   "execution_count": null,
   "metadata": {},
   "outputs": [],
   "source": [
    "options = {\n",
    "    \"iters\": 2000,\n",
    "    \"lr_init\": 0.1,\n",
    "    \"bt_beta\": 0.5\n",
    "}\n",
    "out = tester.test(l1_proj_grad, options)\n",
    "utils.draw_loss_curve([out[\"real_loss\"], out[\"formal_loss\"]], label=[\"real loss\", \"formal loss\"], log=True)"
   ]
  },
  {
   "cell_type": "code",
   "execution_count": null,
   "metadata": {},
   "outputs": [],
   "source": [
    "options = {\n",
    "    \"iters\": 2000,\n",
    "    \"mu_func\": utils.mu_func_expo_dimish(1000., tester.mu, 1500),\n",
    "    \"lr_init\": 0.002\n",
    "}\n",
    "out = tester.test(l1_proj_grad, options)\n",
    "utils.draw_sparse_figure(out[\"value\"])\n",
    "utils.draw_loss_curve([out[\"real_loss\"], out[\"formal_loss\"]], label=[\"real loss\", \"formal loss\"], log=True)"
   ]
  },
  {
   "cell_type": "code",
   "execution_count": null,
   "metadata": {},
   "outputs": [],
   "source": [
    "options = {\n",
    "    \"iters\": 2000,\n",
    "    \"iter_list\": [1000]*7,\n",
    "    \"mu_list\": [1000., 100., 10., 1., 0.1, 0.01, 0.001],\n",
    "    \"intel_grad_norm2\": [0.97, 0.97, 100],\n",
    "    \"lr_init\": 0.002,\n",
    "}\n",
    "out = tester.test(l1_proj_grad, options)\n",
    "utils.draw_sparse_figure(out[\"value\"])\n",
    "utils.draw_loss_curve([out[\"real_loss\"], out[\"formal_loss\"]], label=[\"real loss\", \"formal loss\"], log=True)"
   ]
  },
  {
   "cell_type": "code",
   "execution_count": null,
   "metadata": {},
   "outputs": [],
   "source": [
    "options = {\n",
    "    \"iters\": 2000,\n",
    "    \"lr_init\": 0.0002\n",
    "}\n",
    "out = tester.test(l1_sub_grad, options)\n",
    "utils.draw_sparse_figure(out[\"value\"])"
   ]
  },
  {
   "cell_type": "code",
   "execution_count": null,
   "metadata": {},
   "outputs": [],
   "source": [
    "options = {\n",
    "    \"iters\": 2000,\n",
    "    \"lr_func\": utils.lr_func_frac_dimish(0.04, 20),\n",
    "}\n",
    "out = tester.test(l1_sub_grad, options)"
   ]
  },
  {
   "cell_type": "code",
   "execution_count": null,
   "metadata": {},
   "outputs": [],
   "source": [
    "options = {\n",
    "    \"iters\": 2000,\n",
    "    \"mu_func\": utils.mu_func_expo_dimish(1000., tester.mu, 1500),\n",
    "    \"lr_init\": 0.0005\n",
    "}\n",
    "out = tester.test(l1_sub_grad, options)"
   ]
  },
  {
   "cell_type": "code",
   "execution_count": null,
   "metadata": {},
   "outputs": [],
   "source": [
    "options = {\n",
    "    \"iters\": 2000,\n",
    "    \"iter_list\": [1000]*7,\n",
    "    \"mu_list\": [1000., 100., 10., 1., 0.1, 0.01, 0.001],\n",
    "    \"intel_grad_norm2\": [0.95, 0.95, 100],\n",
    "    \"lr_init\": 0.0005,\n",
    "}\n",
    "out = tester.test(l1_sub_grad, options)\n",
    "utils.draw_sparse_figure(out[\"value\"])\n",
    "utils.draw_loss_curve([out[\"real_loss\"], out[\"formal_loss\"]], label=[\"real loss\", \"formal loss\"], log=True)"
   ]
  },
  {
   "cell_type": "code",
   "execution_count": null,
   "metadata": {},
   "outputs": [],
   "source": [
    "options = {\n",
    "    \"iters\": 2000,\n",
    "    \"lr_init\": 0.0002,\n",
    "    \"eps\": 0.1,\n",
    "}\n",
    "out = tester.test(l1_smooth_grad_sqrt, options)\n",
    "utils.draw_sparse_figure(out[\"value\"])"
   ]
  },
  {
   "cell_type": "code",
   "execution_count": null,
   "metadata": {},
   "outputs": [],
   "source": [
    "options = {\n",
    "    \"iters\": 2000,\n",
    "    \"mu_func\": utils.mu_func_expo_dimish(1000., tester.mu, 2000),\n",
    "    \"lr_init\": 0.0005,\n",
    "    \"eps\": 1.e-6,\n",
    "}\n",
    "out = tester.test(l1_smooth_grad_sqrt, options)\n",
    "utils.draw_sparse_figure(out[\"value\"])\n",
    "utils.draw_loss_curve([out[\"real_loss\"], out[\"formal_loss\"]], label=[\"real loss\", \"formal loss\"], log=True)"
   ]
  },
  {
   "cell_type": "code",
   "execution_count": null,
   "metadata": {},
   "outputs": [],
   "source": [
    "options = {\n",
    "    \"iters\": 2000,\n",
    "    \"mu_func\": utils.mu_func_expo_dimish(1000., tester.mu, 2000),\n",
    "    \"lr_init\": 0.0001,\n",
    "    \"eps\": 1.e-6,\n",
    "}\n",
    "out = tester.test(l1_smooth_grad_log_exp, options)\n",
    "utils.draw_sparse_figure(out[\"value\"])\n",
    "utils.draw_loss_curve([out[\"real_loss\"], out[\"formal_loss\"]], label=[\"real loss\", \"formal loss\"], log=True)"
   ]
  },
  {
   "cell_type": "code",
   "execution_count": null,
   "metadata": {
    "scrolled": false
   },
   "outputs": [],
   "source": [
    "options = {\n",
    "    \"iters\": 5000,\n",
    "    \"iter_list\": [1000]*7,\n",
    "    \"mu_list\": [1000., 100., 10., 1., 0.1, 0.01, 0.001],\n",
    "    \"intel_grad_norm2\": [0.97, 0.97, 200],\n",
    "    \"lr_init\": 0.0006,\n",
    "    \"eps\": 1.e-5,\n",
    "}\n",
    "out = tester.test(l1_smooth_grad_sqrt, options)\n",
    "utils.draw_sparse_figure(out[\"value\"])\n",
    "utils.draw_loss_curve([out[\"real_loss\"], out[\"formal_loss\"]], label=[\"real loss\", \"formal loss\"], log=True)"
   ]
  },
  {
   "cell_type": "code",
   "execution_count": null,
   "metadata": {
    "scrolled": false
   },
   "outputs": [],
   "source": [
    "options = {\n",
    "    \"iters\": 5000,\n",
    "    \"iter_list\": [1000]*7,\n",
    "    \"mu_list\": [1000., 100., 10., 1., 0.1, 0.01, 0.001],\n",
    "    \"intel_grad_norm2\": [0.97, 0.97, 100],\n",
    "    \"lr_init\": 0.0004,\n",
    "    \"eps\": 1.e-5,\n",
    "}\n",
    "out = tester.test(l1_smooth_grad_log_exp, options)\n",
    "utils.draw_sparse_figure(out[\"value\"])\n",
    "utils.draw_loss_curve([out[\"real_loss\"], out[\"formal_loss\"]], label=[\"real loss\", \"formal loss\"], log=True)"
   ]
  },
  {
   "cell_type": "code",
   "execution_count": null,
   "metadata": {},
   "outputs": [],
   "source": [
    "options = {\n",
    "    \"iters\": 2000,\n",
    "    \"iter_list\": [2000],\n",
    "    \"lr_init\": 0.0002,\n",
    "    \"eps\": 0.1,\n",
    "}\n",
    "out = tester.test(l1_fast_smooth_grad_sqrt, options)\n",
    "utils.draw_sparse_figure(out[\"value\"])"
   ]
  },
  {
   "cell_type": "code",
   "execution_count": null,
   "metadata": {},
   "outputs": [],
   "source": [
    "options = {\n",
    "    \"iters\": 5000,\n",
    "    \"iter_list\": [1000]*7,\n",
    "    \"mu_list\": [1000., 100., 10., 1., 0.1, 0.01, 0.001],\n",
    "    \"intel_grad_norm2\": [0.95, 0.80, 100],\n",
    "    \"lr_init\": 0.0004,\n",
    "    \"eps\": 1.e-5,\n",
    "}\n",
    "out = tester.test(l1_fast_smooth_grad_sqrt, options)\n",
    "utils.draw_sparse_figure(out[\"value\"])\n",
    "utils.draw_loss_curve([out[\"real_loss\"], out[\"formal_loss\"]], label=[\"real loss\", \"formal loss\"], log=True)"
   ]
  },
  {
   "cell_type": "code",
   "execution_count": null,
   "metadata": {},
   "outputs": [],
   "source": [
    "options = {\n",
    "    \"iters\": 2000,\n",
    "    \"iter_list\": [2000],\n",
    "    \"lr_init\": 0.0002,\n",
    "}\n",
    "out = tester.test(l1_prox_grad, options)\n",
    "utils.draw_sparse_figure(out[\"value\"])"
   ]
  },
  {
   "cell_type": "code",
   "execution_count": null,
   "metadata": {},
   "outputs": [],
   "source": [
    "options = {\n",
    "    \"iters\": 5000,\n",
    "    \"iter_list\": [1000]*7,\n",
    "    \"mu_list\": [1000., 100., 10., 1., 0.1, 0.01, 0.001],\n",
    "    \"intel_grad_norm2\": [0.97, 0.97, 100],\n",
    "    \"lr_init\": 0.0004,\n",
    "}\n",
    "out = tester.test(l1_prox_grad, options)\n",
    "utils.draw_sparse_figure(out[\"value\"])\n",
    "utils.draw_loss_curve([out[\"real_loss\"], out[\"formal_loss\"]], label=[\"real loss\", \"formal loss\"], log=True)"
   ]
  },
  {
   "cell_type": "code",
   "execution_count": null,
   "metadata": {},
   "outputs": [],
   "source": [
    "options = {\n",
    "    \"iters\": 50000,\n",
    "    \"iter_list\": [50000],\n",
    "    \"lr_init\": 0.0002,\n",
    "}\n",
    "out = tester.test(l1_fast_prox_grad, options)\n",
    "utils.draw_sparse_figure(out[\"value\"])\n",
    "utils.draw_loss_curve([out[\"real_loss\"], out[\"formal_loss\"]], label=[\"real loss\", \"formal loss\"], log=True)"
   ]
  },
  {
   "cell_type": "code",
   "execution_count": null,
   "metadata": {},
   "outputs": [],
   "source": [
    "options = {\n",
    "    \"iters\": 5000,\n",
    "    \"iter_list\": [1000]*7,\n",
    "    \"mu_list\": [1000., 100., 10., 1., 0.1, 0.01, 0.001],\n",
    "    \"intel_grad_norm2\": [0.95, 0.80, 10],\n",
    "    \"lr_init\": 0.0004,\n",
    "}\n",
    "out = tester.test(l1_fast_prox_grad, options)\n",
    "utils.draw_sparse_figure(out[\"value\"])\n",
    "utils.draw_loss_curve([out[\"real_loss\"], out[\"formal_loss\"]], label=[\"real loss\", \"formal loss\"], log=True)"
   ]
  },
  {
   "cell_type": "code",
   "execution_count": null,
   "metadata": {
    "collapsed": true
   },
   "outputs": [],
   "source": []
  }
 ],
 "metadata": {
  "kernelspec": {
   "display_name": "Python 3",
   "language": "python",
   "name": "python3"
  },
  "language_info": {
   "codemirror_mode": {
    "name": "ipython",
    "version": 3
   },
   "file_extension": ".py",
   "mimetype": "text/x-python",
   "name": "python",
   "nbconvert_exporter": "python",
   "pygments_lexer": "ipython3",
   "version": "3.6.2"
  }
 },
 "nbformat": 4,
 "nbformat_minor": 2
}
